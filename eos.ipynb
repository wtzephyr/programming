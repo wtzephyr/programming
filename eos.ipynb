{
 "cells": [
  {
   "cell_type": "code",
   "execution_count": 80,
   "metadata": {},
   "outputs": [
    {
     "name": "stdout",
     "output_type": "stream",
     "text": [
      "['1165738 HYUN BO YUNG^_sterEOS_Excel_Report04012019_1534_33.xlsx', '1235076 KIM SOON HYUN^_sterEOS_Excel_Report03012019_1046_09.xlsx', '3326881 CHIN KYUNG OO^_sterEOS_Excel_Report02012019_1105_10.xlsx', '3644930 CHUNG KWANG TAE^_sterEOS_Excel_Report02012019_0906_54.xlsx']\n"
     ]
    }
   ],
   "source": [
    "import os\n",
    "\n",
    "path = \"./data\"\n",
    "file_list = os.listdir(path)\n",
    "print(file_list)"
   ]
  },
  {
   "cell_type": "code",
   "execution_count": 81,
   "metadata": {},
   "outputs": [
    {
     "name": "stdout",
     "output_type": "stream",
     "text": [
      "1235076\n"
     ]
    }
   ],
   "source": [
    "file_name_split=str.split(file_list[1])\n",
    "ID=file_name_split[0]\n",
    "print(ID)"
   ]
  },
  {
   "cell_type": "code",
   "execution_count": 82,
   "metadata": {},
   "outputs": [
    {
     "name": "stdout",
     "output_type": "stream",
     "text": [
      "['1165738', '1235076', '3326881', '3644930']\n"
     ]
    }
   ],
   "source": [
    "ID = []\n",
    "\n",
    "for file_name_raw in file_list:\n",
    "    file_name_split=str.split(file_name_raw)\n",
    "    file_ID=file_name_split[0]\n",
    "    ID.append(file_ID)\n",
    "\n",
    "print(ID)\n",
    "    "
   ]
  },
  {
   "cell_type": "code",
   "execution_count": 83,
   "metadata": {},
   "outputs": [
    {
     "name": "stdout",
     "output_type": "stream",
     "text": [
      "Requirement already satisfied: openpyxl in c:\\users\\wtzephyr\\anaconda3\\lib\\site-packages (2.5.11)\n",
      "Requirement already satisfied: et-xmlfile in c:\\users\\wtzephyr\\anaconda3\\lib\\site-packages (from openpyxl) (1.0.1)\n",
      "Requirement already satisfied: jdcal in c:\\users\\wtzephyr\\anaconda3\\lib\\site-packages (from openpyxl) (1.4)\n"
     ]
    },
    {
     "name": "stderr",
     "output_type": "stream",
     "text": [
      "No metadata found in c:\\users\\wtzephyr\\anaconda3\\lib\\site-packages\n",
      "No metadata found in c:\\users\\wtzephyr\\anaconda3\\lib\\site-packages\n"
     ]
    }
   ],
   "source": [
    "!pip install openpyxl"
   ]
  },
  {
   "cell_type": "code",
   "execution_count": 95,
   "metadata": {},
   "outputs": [
    {
     "name": "stdout",
     "output_type": "stream",
     "text": [
      "[['id', 'Pelvic incidence', 'Sacral slope', 'Pelvic tilt', 'Pelvic obliquity', 'Pelvis axial rotation', 'Kyphosis L1/L5', 'Kyphosis T1/T12', 'Kyphosis T4/T12', 'Lordosis L1/S1', 'SVA', 'CAM plumb line', 'Spino Sacral Angle', 'T1 Tilt', 'T9 tilt', 'Full Body Index', 'C7-CSL', 'Knee flexion(left)', 'Cobb angle T3/L2'], ['1165738', 46.0120947867112, 22.9038416433674, 23.1082531433438, 9.1285697452881, 0, 3.6616941387619, 7.4190807754123, 0.95723629604, 12.0242968898669, 85.4870803156709, 20.0405702200549, 103.099053720836, -2.9882387781476, 1.5547825421227, 22.2081764928826, 30.2904116548627, 15.1208301820613, 26.4373879281306], ['1235076', 58.4444033014226, 32.2650149713497, 26.179388330073, 6.1494875452879, 0, 38.0529786156376, 26.27917649821, 38.6707072038379, 52.1798331062466, -41.965975444339, -91.5587585798755, 130.32348735086, 12.4160773193962, 15.5293056465634, 0, 30.1664092680594, 5.6467209267484, 11.4546551839457], ['3326881', 27.6687975410406, 26.8244134067651, 0.8443841342757, 7.7795205295834, 0, '2D', '-', None, 'Right', '3D', 44.5178344275503, 38.1168102692971, 82.8526492261174, 82.6346446968475, None, -3.0395472031061, None, None], ['3644930', 39.6373714708879, 35.9325646615216, 3.7048068093663, 1.2197573295834, 0, 20.3541950568909, 8.870234470492, 39.3130922279462, 42.8955773990563, -37.9308704037627, -59.6133009685499, 132.029303963549, 5.896218540518, 4.1002371425754, 0, 22.3751137158675, 1.9075480216342, 8.4380351216577]]\n"
     ]
    },
    {
     "name": "stderr",
     "output_type": "stream",
     "text": [
      "C:\\Users\\wtzephyr\\Anaconda3\\lib\\site-packages\\ipykernel_launcher.py:12: DeprecationWarning: Call to deprecated function get_sheet_by_name (Use wb[sheetname]).\n",
      "  if sys.path[0] == '':\n",
      "C:\\Users\\wtzephyr\\Anaconda3\\lib\\site-packages\\ipykernel_launcher.py:12: DeprecationWarning: Call to deprecated function get_sheet_by_name (Use wb[sheetname]).\n",
      "  if sys.path[0] == '':\n",
      "C:\\Users\\wtzephyr\\Anaconda3\\lib\\site-packages\\ipykernel_launcher.py:12: DeprecationWarning: Call to deprecated function get_sheet_by_name (Use wb[sheetname]).\n",
      "  if sys.path[0] == '':\n",
      "C:\\Users\\wtzephyr\\Anaconda3\\lib\\site-packages\\ipykernel_launcher.py:12: DeprecationWarning: Call to deprecated function get_sheet_by_name (Use wb[sheetname]).\n",
      "  if sys.path[0] == '':\n"
     ]
    }
   ],
   "source": [
    "from openpyxl import load_workbook\n",
    "\n",
    "results = [['id', 'Pelvic incidence', 'Sacral slope', 'Pelvic tilt', 'Pelvic obliquity',\n",
    "              'Pelvis axial rotation','Kyphosis L1/L5','Kyphosis T1/T12','Kyphosis T4/T12',\n",
    "             'Lordosis L1/S1', 'SVA', 'CAM plumb line','Spino Sacral Angle','T1 Tilt','T9 tilt',\n",
    "             'Full Body Index', 'C7-CSL', 'Knee flexion(left)', 'Cobb angle T3/L2']]\n",
    "\n",
    "for file_name_raw in file_list:\n",
    "    #open xlsl for reading\n",
    "    file_name = \"./data/\"+file_name_raw #경로로 변경\n",
    "    wb = load_workbook(filename=file_name, data_only=True) \n",
    "    Ad = wb.get_sheet_by_name('Advanced')\n",
    "    file_name_split=str.split(file_name_raw)\n",
    "    file_name_ID=file_name_split[0]\n",
    "    \n",
    "    result = []\n",
    "    result.append(file_name_ID)\n",
    "    result.append(Ad['C5'].value)\n",
    "    result.append(Ad['C6'].value)    \n",
    "    result.append(Ad['C7'].value)\n",
    "    result.append(Ad['C8'].value)    \n",
    "    result.append(Ad['C9'].value)\n",
    "    result.append(Ad['D12'].value)\n",
    "    result.append(Ad['D13'].value)\n",
    "    result.append(Ad['D14'].value)\n",
    "    result.append(Ad['D15'].value)\n",
    "    result.append(Ad['C16'].value)\n",
    "    result.append(Ad['C17'].value)\n",
    "    result.append(Ad['C18'].value)    \n",
    "    result.append(Ad['C19'].value)\n",
    "    result.append(Ad['C20'].value)    \n",
    "    result.append(Ad['C21'].value)\n",
    "    result.append(Ad['C24'].value)\n",
    "    result.append(Ad['D27'].value)\n",
    "    result.append(Ad['D30'].value)\n",
    "    \n",
    "    results.append(result)\n",
    "print(results)"
   ]
  },
  {
   "cell_type": "code",
   "execution_count": 97,
   "metadata": {},
   "outputs": [],
   "source": [
    "from openpyxl import Workbook\n",
    "\n",
    "wb = Workbook()\n",
    "ws = wb.active\n",
    "\n",
    "for i in results:\n",
    "    ws.append(i)\n",
    "\n",
    "wb.save(\"results.xlsx\")"
   ]
  }
 ],
 "metadata": {
  "kernelspec": {
   "display_name": "Python 3",
   "language": "python",
   "name": "python3"
  },
  "language_info": {
   "codemirror_mode": {
    "name": "ipython",
    "version": 3
   },
   "file_extension": ".py",
   "mimetype": "text/x-python",
   "name": "python",
   "nbconvert_exporter": "python",
   "pygments_lexer": "ipython3",
   "version": "3.6.7"
  }
 },
 "nbformat": 4,
 "nbformat_minor": 2
}
